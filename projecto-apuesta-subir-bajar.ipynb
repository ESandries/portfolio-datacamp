{
 "cells": [
  {
   "cell_type": "markdown",
   "metadata": {},
   "source": [
    "# Proyecto el dado y los escalones\n",
    "## Conetexto\n",
    "Estás en el edificio más grande de mundo con tu amigo Mathew. Mathew te propone que juguen a subir y bajar pisos con un dado. Como estás más aburrido que haciendo fila en un banco, le dices que está bien.\n",
    "\n",
    "## Condiciones \n",
    "1. Si sale 1 o 2, van a bajar 1 piso\n",
    "2. Si sale 3, 4 o 5 van a subir 1 piso.\n",
    "3. Si sale 6, vas a tirar el dado y a subir lo que salga.\n",
    "4. No puedes bajar del piso 0\n",
    "\n",
    "## Problema\n",
    "Entonces. Cuando ya están listos para empezár. Él te dice que hagan una apuesta. ¿Cuál? Qué tu amigo va a tirar 100 veces el dado y va a subir más de 60 escalones. Pero si él no sube los 60 escalones, tu vas a a pagar los sandwiches de halado.\n",
    "\n",
    "Te pones a analizar la apuesta. Y como quieres tus sándwiches de helado, vas a usar python para calcular cuál es la probabilidad de que tu amigo suba más de 60 escalones.\n",
    "\n",
    "## Resolución"
   ]
  },
  {
   "cell_type": "code",
   "execution_count": null,
   "metadata": {},
   "outputs": [],
   "source": [
    "# Importamos NumPy como np\n",
    "import numpy as np\n",
    "\n",
    "# Configuramos la *seed* qué será la base\n",
    "np.random.seed(270304)\n",
    "\n",
    "# Iniciamos un \"array\" donde vamos a guardar el piso en el que estoy. \n",
    "piso_actual = [0]\n",
    "\n",
    "# Iniciamos un ciclo\n",
    "for x in range(100) :\n",
    "    # Test 01:  print(\"El piso actual es: \" + str(piso_actual))\n",
    "\n",
    "    # Vamos a decir que el número de piso será el último piso de \"piso_actual\"\n",
    "    Numero_de_piso = piso_actual[-1]\n",
    "    # Test 01:  print(\"El número de piso es: \" + str(Numero_de_piso))\n",
    "\n",
    "    # Tiramos el dado.\n",
    "    dado = np.random.randint(1, 7)\n",
    "    # Test 01: print(\"El dado cayó en: \" + str(dado))\n",
    "\n",
    "    # Determinamos el piso\n",
    "    if dado <= 2:\n",
    "        Numero_de_piso = Numero_de_piso - 1\n",
    "    # Test 01: print(\"Se bajo un piso y quedo en: \" + str(Numero_de_piso))\n",
    "    elif dado <= 5:\n",
    "        Numero_de_piso = Numero_de_piso + 1\n",
    "    else:\n",
    "        Numero_de_piso = Numero_de_piso + np.random.randint(1,7)\n",
    "\n",
    "    # append next_step to random_walk\n",
    "    piso_actual.append(Numero_de_piso)\n",
    "\n",
    "# Imprimimos si subió o bajó.\n",
    "print(\"En los 100 tiros se pasó por los pisos \" + str(piso_actual))\n",
    "\n",
    "# Guardamos el número de pisos que subío en un \"array\"\n",
    "total_pisos = [0]\n",
    "\n",
    "total_pisos.append(piso_actual[-1])\n",
    "total_pisos.remove(piso_actual[0])\n",
    "\n",
    "print(\"Desués de tirar el dado 100 veces conseguimos estar en la posición:  \" + str(total_pisos))"
   ]
  }
 ],
 "metadata": {
  "kernelspec": {
   "display_name": "Python 3.10.4 64-bit",
   "language": "python",
   "name": "python3"
  },
  "language_info": {
   "name": "python",
   "version": "3.10.4"
  },
  "orig_nbformat": 4,
  "vscode": {
   "interpreter": {
    "hash": "916dbcbb3f70747c44a77c7bcd40155683ae19c65e1c03b4aa3499c5328201f1"
   }
  }
 },
 "nbformat": 4,
 "nbformat_minor": 2
}
