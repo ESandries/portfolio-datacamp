{
 "cells": [
  {
   "cell_type": "markdown",
   "metadata": {},
   "source": [
    "# Proyecto el dado y los escalones\n",
    "## Situación:\n",
    "Estás en el edificio más grande de mundo con tu amigo Mathew. Mathew te propone que juguen a subir y bajar pisos con un dado. Como estás más aburrido que haciendo fila en un banco, le dices que está bien.\n",
    "\n",
    "### El te dice que hay 4 condiciones del juego. Las cuales son:\n",
    "1. Si sale 1 o 2, van a bajar 1 piso\n",
    "2. Si sale 3, 4 o 5 van a subir 1 piso.\n",
    "3. Si sale 6, vas a tirar el dado y a subir lo que salga.\n",
    "4. No puedes bajar a 0 escalones\n",
    "### Apuesta\n",
    "Entonces. Cuando ya están listos para empezár. Él te dice que hagan una apuesta. ¿Cuál? Qué tu amigo va a tirar 100 veces el dado y va a subir más de 60 escalones. Pero si él no sube los 60 escalones, tu vas a a pagar los sandwiches de halado.\n",
    "\n",
    "Te pones a analizar la apuesta. Y como quieres tus sándwiches de helado, vas a usar python para calcular cuál es la probabilidad de que tu amigo suba más de 60 escalones.\n",
    "\n",
    "## Resolución"
   ]
  }
 ],
 "metadata": {
  "language_info": {
   "name": "python"
  },
  "orig_nbformat": 4
 },
 "nbformat": 4,
 "nbformat_minor": 2
}
