{
 "cells": [
  {
   "cell_type": "markdown",
   "metadata": {},
   "source": [
    "# Proyecto el dado y los escalones\n",
    "## Contexto\n",
    "Estás en el edificio más grande de mundo con tu amigo Mathew. Mathew te propone que juguen a subir y bajar pisos con un dado. Como estás más aburrido que haciendo fila en un banco, le dices que está bien.\n",
    "\n",
    "## Condiciones\n",
    "1. Si sale 1 o 2, van a bajar 1 piso\n",
    "2. Si sale 3, 4 o 5 van a subir 1 piso.\n",
    "3. Si sale 6, vas a tirar el dado y a subir lo que salga.\n",
    "4. No puedes bajar del piso 0\n",
    "\n",
    "## Problema\n",
    "Entonces. Cuando ya están listos para empezár. Él te dice que hagan una apuesta. ¿Cuál? Qué tu amigo va a tirar 100 veces el dado y va a subir más de 60 escalones. Pero si él no sube los 60 escalones, tu vas a a pagar los sandwiches de halado.\n",
    "\n",
    "Te pones a analizar la apuesta. Y como quieres tus sándwiches de helado, vas a usar python para calcular cuál es la probabilidad de que tu amigo suba más de 60 escalones.\n",
    "\n",
    "## Resolución\n",
    "### Paso 01. Importamos NumPy y configuramos la semilla"
   ]
  },
  {
   "cell_type": "code",
   "execution_count": 1,
   "metadata": {},
   "outputs": [],
   "source": [
    "# Importamos NumPy como np\n",
    "import numpy as np\n",
    "# Configuramos la *seed* qué será la base\n",
    "np.random.seed(270304)"
   ]
  },
  {
   "cell_type": "markdown",
   "metadata": {},
   "source": [
    "### Paso 02. Definimos las condiciones del juego y tiramos el dado 100 veces."
   ]
  },
  {
   "cell_type": "code",
   "execution_count": 2,
   "metadata": {},
   "outputs": [
    {
     "name": "stdout",
     "output_type": "stream",
     "text": [
      "En los 100 tiros del dato, se pasó por los pisos [0, 0, 0, 0, 1, 0, 0, 0, 1, 2, 3, 2, 3, 4, 5, 6, 10, 15, 21, 20, 21, 22, 23, 24, 30, 31, 30, 29, 31, 30, 31, 30, 29, 28, 29, 34, 33, 32, 33, 34, 33, 34, 35, 34, 35, 36, 42, 41, 43, 44, 43, 44, 43, 42, 43, 44, 45, 51, 50, 49, 48, 49, 50, 51, 50, 49, 53, 54, 55, 54, 58, 62, 63, 64, 65, 64, 63, 62, 61, 60, 59, 58, 59, 58, 59, 60, 61, 67, 68, 69, 70, 69, 70, 71, 70, 71, 72, 73, 74, 73, 72]\n"
     ]
    }
   ],
   "source": [
    "piso_actual = [0] # Iniciamos un \"array\" donde vamos a guardar el piso en el que estoy.\n",
    "# Iniciamos un ciclo para que se repita 100 veces. Que es las veces que vamos a tirar el dado.\n",
    "for x in range(100) :\n",
    "    numero_de_piso = piso_actual[-1] # Guardamos el último piso en el que estuvimos.\n",
    "    dado = np.random.randint(1, 7) # Tiramos el dado y lo guardamos en la variable dado.\n",
    "    # Creamos un condicional para saber si subimos o bajamos.\n",
    "    if dado <= 2: # Si el dado es menor o igual a 2 bajamos.\n",
    "        numero_de_piso = max(0, numero_de_piso -1) # Se baja un piso y no se puede bajar más de 0.\n",
    "    elif dado <= 5: # Si el dado es menor o igual a 5 subimos.\n",
    "        numero_de_piso = numero_de_piso + 1 # Sumamos 1 al piso en el que estamos.\n",
    "    else: # Si el dado es 6, subimos lo que diga el dado al tirarlo de nuevo.\n",
    "        numero_de_piso = numero_de_piso + np.random.randint(1,7) # Sumamos el número que salió en el dado al piso en el que estamos.\n",
    "    piso_actual.append(numero_de_piso) # Guardamos el piso en el que estamos en el array piso_actual.\n",
    "\n",
    "# Imprimimos si subió o bajó.\n",
    "print(\"En los 100 tiros del dato, se pasó por los pisos \" + str(piso_actual))"
   ]
  },
  {
   "cell_type": "markdown",
   "metadata": {},
   "source": [
    "### Paso 03. Guardamos el último piso en el que estuvimos en un array."
   ]
  },
  {
   "cell_type": "code",
   "execution_count": 3,
   "metadata": {},
   "outputs": [
    {
     "name": "stdout",
     "output_type": "stream",
     "text": [
      "Desués de tirar el dado 100 veces conseguimos estar en la posición:  [72]\n"
     ]
    }
   ],
   "source": [
    "piso_final = [0] # Iniciamos un \"array\" donde vamos a guardar el piso en el que quedamos después de tirar el dado 100 veces.\n",
    "piso_final.append(piso_actual[-1]) # Guardamos el último piso en el que estuvimos.\n",
    "piso_final.remove(piso_actual[0]) # Eliminamos el primer elemento del array que es 0.\n",
    "\n",
    "print(\"Desués de tirar el dado 100 veces conseguimos estar en la posición:  \" + str(piso_final))"
   ]
  },
  {
   "cell_type": "markdown",
   "metadata": {},
   "source": [
    "### Paso 04. Calculamos los pisos en los que quedamos después de intentar 500 veces. "
   ]
  },
  {
   "cell_type": "code",
   "execution_count": 4,
   "metadata": {},
   "outputs": [],
   "source": [
    "# Iniciamos un ciclo para calcular los 500 posibles futuros\n",
    "\n",
    "pisos_futuros = [0] # Iniciamos un \"array\" donde vamos a guardar los 500 posibles futuros.\n",
    "\n",
    "#Se repité el ciclo 500  veces para calcular 500 futuros.\n",
    "for future in range(500) :\n",
    "    piso_actual = [0] # En cada ciclo iniciamos un \"array\" donde vamos a guardar el piso en el que estamos.\n",
    "    np.random.seed(np.random.randint(60804,161004)) # Generamos una seed aleaterio para cada futuro sin haber cambiado la primera seed.\n",
    "    #Reutilizamos el código anterior para generar los 100 tiros del dado.\n",
    "    for x in range(100) :\n",
    "        numero_de_piso = piso_actual[-1]\n",
    "        dado = np.random.randint(1, 7)\n",
    "        if dado <= 2:\n",
    "            numero_de_piso = max(0, numero_de_piso -1) # Se baja un piso y no se puede bajar más de 0.\n",
    "        elif dado <= 5:\n",
    "            numero_de_piso = numero_de_piso + 1\n",
    "        else:\n",
    "            numero_de_piso = numero_de_piso + np.random.randint(1,7)\n",
    "        piso_actual.append(numero_de_piso) # Guardamos el piso en el que estamos en el array piso_actual.\n",
    "\n",
    "    pisos_futuros.append(piso_actual[-1]) # Me agrega el último piso en el que quedamos en el array pisos_futuros.\n",
    "pisos_futuros.remove(piso_actual[0]) # Removemos el primer array de todos los finales que es 0 y ese lo declaramos al inicio y no es un resultado de algún fúturo."
   ]
  },
  {
   "cell_type": "markdown",
   "metadata": {},
   "source": [
    "### Paso 05. Calculamos la probabilidad de que Mathew suba más de 60 escalones.\n",
    "Contando la cantidad de veces que Mathew subió más de 60 escalones y dividiendo por el total de futuros intentos. Es decir, contar los casos favorables que son los elementos mayores o iguales a 60 y dividir por el total de casos posible que son los 500 intentos."
   ]
  },
  {
   "cell_type": "code",
   "execution_count": 5,
   "metadata": {},
   "outputs": [
    {
     "name": "stdout",
     "output_type": "stream",
     "text": [
      "La probabilidad de que el resultado sea mayor o igual a 60 es de: 84.2%\n"
     ]
    }
   ],
   "source": [
    "# Vamos a calcular la probabilidad:\n",
    "np_pisos_futuros = np.array(pisos_futuros) # Convertimos la lista de pisos_futuros de cada posible futuro a un NumPy array para poder usar la comparación.\n",
    "np_finales_favorables = np_pisos_futuros[np_pisos_futuros >= 60] #Hacemos un array que contenga solo los valores iguales o mayores de 60.\n",
    "probabiliad_de_subir_mas_de_sesenta_pisos = len(np_finales_favorables) / 500 * 100 # Calculamos la probabilidad de que el resultado sea mayor o igual a 60.\n",
    "print(\"La probabilidad de que el resultado sea mayor o igual a 60 es de: \" + str(probabiliad_de_subir_mas_de_sesenta_pisos) + \"%\") # Imprimimos la probabilidad."
   ]
  },
  {
   "cell_type": "markdown",
   "metadata": {},
   "source": [
    "## Conclusiones\n",
    "### ¿Cuál es la probabilidad de que Mathew suba más de 60 escalones?\n",
    "la probabilidad de que Mathew suba más de 60 escalones es de 84.2% (0.842) según el modelo de simulación de 500 futuros probables.\n",
    "\n",
    "## Agradecimientos\n",
    "Esta es la interpretación de [@Esandries - Emanuel Sandries](https://esandries.com/) al projecto que se plantea en el [curso Intermedio de Python de DataCamp.](https://app.datacamp.com/learn/courses/intermediate-python)"
   ]
  },
  {
   "cell_type": "markdown",
   "metadata": {},
   "source": []
  }
 ],
 "metadata": {
  "kernelspec": {
   "display_name": "Python 3.10.4 64-bit",
   "language": "python",
   "name": "python3"
  },
  "language_info": {
   "codemirror_mode": {
    "name": "ipython",
    "version": 3
   },
   "file_extension": ".py",
   "mimetype": "text/x-python",
   "name": "python",
   "nbconvert_exporter": "python",
   "pygments_lexer": "ipython3",
   "version": "3.8.10"
  },
  "orig_nbformat": 4,
  "vscode": {
   "interpreter": {
    "hash": "916dbcbb3f70747c44a77c7bcd40155683ae19c65e1c03b4aa3499c5328201f1"
   }
  }
 },
 "nbformat": 4,
 "nbformat_minor": 2
}
